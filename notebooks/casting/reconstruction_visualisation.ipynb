{
 "cells": [
  {
   "attachments": {},
   "cell_type": "markdown",
   "metadata": {},
   "source": [
    "# Visualisation of Reconstructed Images\n",
    "\n",
    "This notebook allows visualisation of examples of reconstructed images from the trained model.\n",
    "\n",
    "The sample images are selected randomly from the validation set."
   ]
  },
  {
   "cell_type": "code",
   "execution_count": null,
   "metadata": {},
   "outputs": [],
   "source": [
    "import matplotlib.pyplot as plt\n",
    "import os\n",
    "import logging\n",
    "import tensorflow as tf\n",
    "\n",
    "os.chdir('../..')\n",
    "\n",
    "from src.utils.data.tfdatasets import load_tf_img_dataset\n",
    "\n",
    "os.environ['TF_CPP_MIN_LOG_LEVEL'] = '3'  # FATAL\n",
    "logging.getLogger('tensorflow').setLevel(logging.FATAL)"
   ]
  },
  {
   "cell_type": "code",
   "execution_count": null,
   "metadata": {},
   "outputs": [],
   "source": [
    "DATASET = 'casting'\n",
    "INPUT_SIZE = (224, 224)\n",
    "CMAP = 'gray'"
   ]
  },
  {
   "cell_type": "code",
   "execution_count": 2,
   "metadata": {},
   "outputs": [],
   "source": [
    "\n",
    "dataset = load_tf_img_dataset(\n",
    "    dir='val',\n",
    "    dir_path='data/processed',\n",
    "    input_size=(224, 224),\n",
    "    mode='autoencoder',\n",
    "    scale=255,\n",
    "    shuffle=True,\n",
    "    batch_size=2,\n",
    "    color_mode='grayscale'\n",
    ")"
   ]
  },
  {
   "cell_type": "code",
   "execution_count": null,
   "metadata": {},
   "outputs": [],
   "source": [
    "model = tf.keras.models.load_model(\n",
    "    ps.path('models', DATASET, 'bin', 'trained_cae.hdf5')\n",
    "    )"
   ]
  },
  {
   "cell_type": "code",
   "execution_count": null,
   "metadata": {},
   "outputs": [],
   "source": [
    "plt.figure(figsize=(10, 10))\n",
    "for images, _ in dataset:\n",
    "    for i in range(2):\n",
    "        ax = plt.subplot(2, 2, i + 1)\n",
    "        plt.imshow(model(images)[i].numpy(), cmap=CMAP)\n",
    "        plt.title('Reconstructed')\n",
    "        plt.axis(\"off\")\n",
    "        ax = plt.subplot(2, 2, i + 3)\n",
    "        plt.imshow(images[i].numpy(), cmap=CMAP)\n",
    "        plt.title('Original')\n",
    "        plt.axis(\"off\")\n",
    "    break\n",
    "\n",
    "plt.show()"
   ]
  }
 ],
 "metadata": {
  "kernelspec": {
   "display_name": "env",
   "language": "python",
   "name": "python3"
  },
  "language_info": {
   "codemirror_mode": {
    "name": "ipython",
    "version": 3
   },
   "file_extension": ".py",
   "mimetype": "text/x-python",
   "name": "python",
   "nbconvert_exporter": "python",
   "pygments_lexer": "ipython3",
   "version": "3.10.6"
  },
  "orig_nbformat": 4
 },
 "nbformat": 4,
 "nbformat_minor": 2
}
